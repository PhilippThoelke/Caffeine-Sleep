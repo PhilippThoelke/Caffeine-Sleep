{
 "cells": [
  {
   "cell_type": "code",
   "execution_count": 1,
   "metadata": {},
   "outputs": [],
   "source": [
    "import re\n",
    "import os\n",
    "import Loader\n",
    "import numpy as np\n",
    "from mne import viz\n",
    "from scipy import io\n",
    "from matplotlib import colors, pyplot as plt\n",
    "from sklearn import preprocessing, model_selection, ensemble"
   ]
  },
  {
   "cell_type": "code",
   "execution_count": 2,
   "metadata": {},
   "outputs": [],
   "source": [
    "CAF_DOSE = 200\n",
    "\n",
    "PROJECT_PATH = 'E:\\\\Cafeine_data'\n",
    "\n",
    "STAGES = ['AWA', 'N1', 'N2', 'N3', 'REM']\n",
    "BANDS = ['delta', 'theta', 'alpha', 'sigma', 'beta', 'low gamma']"
   ]
  },
  {
   "cell_type": "code",
   "execution_count": 3,
   "metadata": {},
   "outputs": [],
   "source": [
    "sensor_pos = io.loadmat(os.path.join(PROJECT_PATH, 'Coo_caf'))['Cor'].T\n",
    "sensor_pos = np.array([sensor_pos[1], sensor_pos[0]]).T"
   ]
  },
  {
   "cell_type": "code",
   "execution_count": 4,
   "metadata": {},
   "outputs": [],
   "source": [
    "subject_labels = Loader.load_labels(CAF_DOSE)\n",
    "psd = Loader.load_feature('PSD', CAF_DOSE)"
   ]
  },
  {
   "cell_type": "code",
   "execution_count": 5,
   "metadata": {
    "scrolled": true
   },
   "outputs": [],
   "source": [
    "data = {}\n",
    "labels = {}\n",
    "groups = {}\n",
    "group_indices = {}\n",
    "\n",
    "for stage in STAGES:\n",
    "    curr_data = []\n",
    "    labels[stage] = []\n",
    "    groups[stage] = []\n",
    "    group_indices[stage] = {}\n",
    "    \n",
    "    for subject_id, subject in psd[stage].items():\n",
    "        if subject.size == 0:\n",
    "            continue\n",
    "            \n",
    "        curr_data.append(subject)\n",
    "        labels[stage] += [subject_labels[subject_id]] * subject.shape[1]\n",
    "        \n",
    "        subject_short = re.match('\\S\\d+', subject_id)[0]\n",
    "        if len(group_indices[stage]) == 0:\n",
    "            group_indices[stage][subject_short] = 0\n",
    "        elif not subject_short in group_indices[stage]:\n",
    "            group_indices[stage][subject_short] = np.max(list(group_indices[stage].values())) + 1\n",
    "        \n",
    "        groups[stage] += [group_indices[stage][subject_short]] * subject.shape[1]\n",
    "    \n",
    "    concatenated = np.concatenate(curr_data, axis=1)\n",
    "\n",
    "    data[stage] = {}\n",
    "    for i, band in enumerate(BANDS):\n",
    "        data[stage][band] = concatenated[:,:,i].T"
   ]
  },
  {
   "cell_type": "code",
   "execution_count": 49,
   "metadata": {
    "scrolled": true
   },
   "outputs": [
    {
     "name": "stdout",
     "output_type": "stream",
     "text": [
      "Sleep stage AWA\n",
      "   Training for frequency band delta...\n",
      "   Training for frequency band theta...\n",
      "   Training for frequency band alpha...\n",
      "   Training for frequency band sigma...\n",
      "   Training for frequency band beta...\n",
      "   Training for frequency band low gamma...\n",
      "Sleep stage N1\n",
      "   Training for frequency band delta...\n",
      "   Training for frequency band theta...\n",
      "   Training for frequency band alpha...\n",
      "   Training for frequency band sigma...\n",
      "   Training for frequency band beta...\n",
      "   Training for frequency band low gamma...\n",
      "Sleep stage N2\n",
      "   Training for frequency band delta...\n",
      "   Training for frequency band theta...\n",
      "   Training for frequency band alpha...\n",
      "   Training for frequency band sigma...\n",
      "   Training for frequency band beta...\n",
      "   Training for frequency band low gamma...\n",
      "Sleep stage N3\n",
      "   Training for frequency band delta...\n",
      "   Training for frequency band theta...\n",
      "   Training for frequency band alpha...\n",
      "   Training for frequency band sigma...\n",
      "   Training for frequency band beta...\n",
      "   Training for frequency band low gamma...\n",
      "Sleep stage REM\n",
      "   Training for frequency band delta...\n",
      "   Training for frequency band theta...\n",
      "   Training for frequency band alpha...\n",
      "   Training for frequency band sigma...\n",
      "   Training for frequency band beta...\n",
      "   Training for frequency band low gamma...\n"
     ]
    }
   ],
   "source": [
    "scores = {}\n",
    "rfs = {}\n",
    "for stage in STAGES:\n",
    "    print(f'Sleep stage {stage}')\n",
    "    scores[stage] = {}\n",
    "    rfs[stage] = {}\n",
    "    for band in BANDS:\n",
    "        print(f'   Training for frequency band {band}...')\n",
    "        rf = ensemble.RandomForestClassifier(n_estimators=10)\n",
    "        rfs[stage][band] = rf\n",
    "        scores[stage][band] = model_selection.permutation_test_score(rf, data[stage][band], labels[stage], groups[stage], n_permutations=100, cv=10, n_jobs=6)"
   ]
  },
  {
   "cell_type": "code",
   "execution_count": 50,
   "metadata": {
    "scrolled": true
   },
   "outputs": [
    {
     "name": "stdout",
     "output_type": "stream",
     "text": [
      "Sleep stage AWA\n",
      "    Frequency band delta     : score 0.706, p-value 0.970\n",
      "    Frequency band theta     : score 0.706, p-value 1.000\n",
      "    Frequency band alpha     : score 0.706, p-value 1.000\n",
      "    Frequency band sigma     : score 0.706, p-value 1.000\n",
      "    Frequency band beta      : score 0.706, p-value 1.000\n",
      "    Frequency band low gamma : score 0.706, p-value 1.000\n",
      "\n",
      "Sleep stage N1\n",
      "    Frequency band delta     : score 0.522, p-value 1.000\n",
      "    Frequency band theta     : score 0.522, p-value 1.000\n",
      "    Frequency band alpha     : score 0.522, p-value 1.000\n",
      "    Frequency band sigma     : score 0.522, p-value 1.000\n",
      "    Frequency band beta      : score 0.522, p-value 1.000\n",
      "    Frequency band low gamma : score 0.522, p-value 1.000\n",
      "\n",
      "Sleep stage N2\n",
      "    Frequency band delta     : score 0.539, p-value 1.000\n",
      "    Frequency band theta     : score 0.539, p-value 1.000\n",
      "    Frequency band alpha     : score 0.539, p-value 1.000\n",
      "    Frequency band sigma     : score 0.539, p-value 1.000\n",
      "    Frequency band beta      : score 0.539, p-value 1.000\n",
      "    Frequency band low gamma : score 0.539, p-value 1.000\n",
      "\n",
      "Sleep stage N3\n",
      "    Frequency band delta     : score 0.576, p-value 1.000\n",
      "    Frequency band theta     : score 0.576, p-value 1.000\n",
      "    Frequency band alpha     : score 0.576, p-value 1.000\n",
      "    Frequency band sigma     : score 0.576, p-value 1.000\n",
      "    Frequency band beta      : score 0.576, p-value 1.000\n",
      "    Frequency band low gamma : score 0.576, p-value 1.000\n",
      "\n",
      "Sleep stage REM\n",
      "    Frequency band delta     : score 0.512, p-value 1.000\n",
      "    Frequency band theta     : score 0.512, p-value 1.000\n",
      "    Frequency band alpha     : score 0.512, p-value 1.000\n",
      "    Frequency band sigma     : score 0.512, p-value 1.000\n",
      "    Frequency band beta      : score 0.512, p-value 1.000\n",
      "    Frequency band low gamma : score 0.512, p-value 1.000\n",
      "\n"
     ]
    }
   ],
   "source": [
    "for stage in STAGES:\n",
    "    print(f'Sleep stage {stage}')\n",
    "    for band in BANDS:\n",
    "        print(f'    Frequency band {band:10}: score {scores[stage][band][0]:.3f}, p-value {scores[stage][band][2]:.3f}')\n",
    "    print()"
   ]
  },
  {
   "cell_type": "code",
   "execution_count": null,
   "metadata": {
    "scrolled": false
   },
   "outputs": [],
   "source": [
    "for stage in STAGES:\n",
    "    for band in BANDS:\n",
    "        scaler = preprocessing.StandardScaler()\n",
    "        scaler.fit(x_train[stage][band])\n",
    "\n",
    "        x_train[stage][band] = scaler.transform(x_train[stage][band])\n",
    "        x_test[stage][band] = scaler.transform(x_test[stage][band])\n",
    "\n",
    "    print(stage)\n",
    "    print(f'   Train samples: {x_train[stage][BANDS[0]].shape[0]}')\n",
    "    percentage = x_test[stage][BANDS[0]].shape[0] / x_train[stage][BANDS[0]].shape[0] * 100\n",
    "    print(f'   Test samples: {x_test[stage][BANDS[0]].shape[0]} ({percentage:.3f}%)')"
   ]
  },
  {
   "cell_type": "code",
   "execution_count": null,
   "metadata": {
    "scrolled": true
   },
   "outputs": [],
   "source": [
    "rfs = {}\n",
    "for stage in STAGES:\n",
    "    rfs[stage] = {}\n",
    "    print(f'Sleep stage {stage}')\n",
    "    for band in BANDS:\n",
    "        print(f'   Training random for frequency band {band}...')\n",
    "        rfs[stage][band] = ensemble.RandomForestClassifier(n_estimators=200)\n",
    "        rfs[stage][band].fit(x_train[stage][band], y_train[stage])"
   ]
  },
  {
   "cell_type": "code",
   "execution_count": 51,
   "metadata": {
    "scrolled": true
   },
   "outputs": [
    {
     "name": "stdout",
     "output_type": "stream",
     "text": [
      "Sleep stage AWA\n"
     ]
    },
    {
     "ename": "NameError",
     "evalue": "name 'x_train' is not defined",
     "output_type": "error",
     "traceback": [
      "\u001b[1;31m---------------------------------------------------------------------------\u001b[0m",
      "\u001b[1;31mNameError\u001b[0m                                 Traceback (most recent call last)",
      "\u001b[1;32m<ipython-input-51-995f6a44631b>\u001b[0m in \u001b[0;36m<module>\u001b[1;34m\u001b[0m\n\u001b[0;32m      2\u001b[0m     \u001b[0mprint\u001b[0m\u001b[1;33m(\u001b[0m\u001b[1;34mf'Sleep stage {stage}'\u001b[0m\u001b[1;33m)\u001b[0m\u001b[1;33m\u001b[0m\u001b[1;33m\u001b[0m\u001b[0m\n\u001b[0;32m      3\u001b[0m     \u001b[1;32mfor\u001b[0m \u001b[0mband\u001b[0m \u001b[1;32min\u001b[0m \u001b[0mBANDS\u001b[0m\u001b[1;33m:\u001b[0m\u001b[1;33m\u001b[0m\u001b[1;33m\u001b[0m\u001b[0m\n\u001b[1;32m----> 4\u001b[1;33m         \u001b[0macc_train\u001b[0m \u001b[1;33m=\u001b[0m \u001b[0mrfs\u001b[0m\u001b[1;33m[\u001b[0m\u001b[0mstage\u001b[0m\u001b[1;33m]\u001b[0m\u001b[1;33m[\u001b[0m\u001b[0mband\u001b[0m\u001b[1;33m]\u001b[0m\u001b[1;33m.\u001b[0m\u001b[0mscore\u001b[0m\u001b[1;33m(\u001b[0m\u001b[0mx_train\u001b[0m\u001b[1;33m[\u001b[0m\u001b[0mstage\u001b[0m\u001b[1;33m]\u001b[0m\u001b[1;33m[\u001b[0m\u001b[0mband\u001b[0m\u001b[1;33m]\u001b[0m\u001b[1;33m,\u001b[0m \u001b[0my_train\u001b[0m\u001b[1;33m[\u001b[0m\u001b[0mstage\u001b[0m\u001b[1;33m]\u001b[0m\u001b[1;33m)\u001b[0m \u001b[1;33m*\u001b[0m \u001b[1;36m100\u001b[0m\u001b[1;33m\u001b[0m\u001b[1;33m\u001b[0m\u001b[0m\n\u001b[0m\u001b[0;32m      5\u001b[0m         \u001b[0macc_test\u001b[0m \u001b[1;33m=\u001b[0m \u001b[0mrfs\u001b[0m\u001b[1;33m[\u001b[0m\u001b[0mstage\u001b[0m\u001b[1;33m]\u001b[0m\u001b[1;33m[\u001b[0m\u001b[0mband\u001b[0m\u001b[1;33m]\u001b[0m\u001b[1;33m.\u001b[0m\u001b[0mscore\u001b[0m\u001b[1;33m(\u001b[0m\u001b[0mx_test\u001b[0m\u001b[1;33m[\u001b[0m\u001b[0mstage\u001b[0m\u001b[1;33m]\u001b[0m\u001b[1;33m[\u001b[0m\u001b[0mband\u001b[0m\u001b[1;33m]\u001b[0m\u001b[1;33m,\u001b[0m \u001b[0my_test\u001b[0m\u001b[1;33m[\u001b[0m\u001b[0mstage\u001b[0m\u001b[1;33m]\u001b[0m\u001b[1;33m)\u001b[0m \u001b[1;33m*\u001b[0m \u001b[1;36m100\u001b[0m\u001b[1;33m\u001b[0m\u001b[1;33m\u001b[0m\u001b[0m\n\u001b[0;32m      6\u001b[0m         \u001b[0mprint\u001b[0m\u001b[1;33m(\u001b[0m\u001b[1;34mf'   {band} accuracy for training data: {acc_train:.3f}%, testing data: {acc_test:.3f}%'\u001b[0m\u001b[1;33m)\u001b[0m\u001b[1;33m\u001b[0m\u001b[1;33m\u001b[0m\u001b[0m\n",
      "\u001b[1;31mNameError\u001b[0m: name 'x_train' is not defined"
     ]
    }
   ],
   "source": [
    "for stage in STAGES:\n",
    "    print(f'Sleep stage {stage}')\n",
    "    for band in BANDS:\n",
    "        acc_train = rfs[stage][band].score(x_train[stage][band], y_train[stage]) * 100\n",
    "        acc_test = rfs[stage][band].score(x_test[stage][band], y_test[stage]) * 100\n",
    "        print(f'   {band} accuracy for training data: {acc_train:.3f}%, testing data: {acc_test:.3f}%')"
   ]
  },
  {
   "cell_type": "code",
   "execution_count": 52,
   "metadata": {
    "scrolled": false
   },
   "outputs": [
    {
     "ename": "NotFittedError",
     "evalue": "This RandomForestClassifier instance is not fitted yet. Call 'fit' with appropriate arguments before using this method.",
     "output_type": "error",
     "traceback": [
      "\u001b[1;31m---------------------------------------------------------------------------\u001b[0m",
      "\u001b[1;31mNotFittedError\u001b[0m                            Traceback (most recent call last)",
      "\u001b[1;32m<ipython-input-52-c8086a25cc03>\u001b[0m in \u001b[0;36m<module>\u001b[1;34m\u001b[0m\n\u001b[0;32m      1\u001b[0m \u001b[0mcolormap\u001b[0m \u001b[1;33m=\u001b[0m \u001b[1;34m'jet'\u001b[0m\u001b[1;33m\u001b[0m\u001b[1;33m\u001b[0m\u001b[0m\n\u001b[0;32m      2\u001b[0m \u001b[1;33m\u001b[0m\u001b[0m\n\u001b[1;32m----> 3\u001b[1;33m \u001b[0mvmin\u001b[0m \u001b[1;33m=\u001b[0m \u001b[0mnp\u001b[0m\u001b[1;33m.\u001b[0m\u001b[0mmin\u001b[0m\u001b[1;33m(\u001b[0m\u001b[1;33m[\u001b[0m\u001b[1;33m[\u001b[0m\u001b[0mrf\u001b[0m\u001b[1;33m.\u001b[0m\u001b[0mfeature_importances_\u001b[0m\u001b[1;33m.\u001b[0m\u001b[0mmin\u001b[0m\u001b[1;33m(\u001b[0m\u001b[1;33m)\u001b[0m \u001b[1;32mfor\u001b[0m \u001b[0mrf\u001b[0m \u001b[1;32min\u001b[0m \u001b[0mrfs\u001b[0m\u001b[1;33m[\u001b[0m\u001b[0mstage\u001b[0m\u001b[1;33m]\u001b[0m\u001b[1;33m.\u001b[0m\u001b[0mvalues\u001b[0m\u001b[1;33m(\u001b[0m\u001b[1;33m)\u001b[0m\u001b[1;33m]\u001b[0m \u001b[1;32mfor\u001b[0m \u001b[0mstage\u001b[0m \u001b[1;32min\u001b[0m \u001b[0mSTAGES\u001b[0m\u001b[1;33m]\u001b[0m\u001b[1;33m)\u001b[0m\u001b[1;33m\u001b[0m\u001b[1;33m\u001b[0m\u001b[0m\n\u001b[0m\u001b[0;32m      4\u001b[0m \u001b[0mvmax\u001b[0m \u001b[1;33m=\u001b[0m \u001b[0mnp\u001b[0m\u001b[1;33m.\u001b[0m\u001b[0mmax\u001b[0m\u001b[1;33m(\u001b[0m\u001b[1;33m[\u001b[0m\u001b[1;33m[\u001b[0m\u001b[0mrf\u001b[0m\u001b[1;33m.\u001b[0m\u001b[0mfeature_importances_\u001b[0m\u001b[1;33m.\u001b[0m\u001b[0mmax\u001b[0m\u001b[1;33m(\u001b[0m\u001b[1;33m)\u001b[0m \u001b[1;32mfor\u001b[0m \u001b[0mrf\u001b[0m \u001b[1;32min\u001b[0m \u001b[0mrfs\u001b[0m\u001b[1;33m[\u001b[0m\u001b[0mstage\u001b[0m\u001b[1;33m]\u001b[0m\u001b[1;33m.\u001b[0m\u001b[0mvalues\u001b[0m\u001b[1;33m(\u001b[0m\u001b[1;33m)\u001b[0m\u001b[1;33m]\u001b[0m \u001b[1;32mfor\u001b[0m \u001b[0mstage\u001b[0m \u001b[1;32min\u001b[0m \u001b[0mSTAGES\u001b[0m\u001b[1;33m]\u001b[0m\u001b[1;33m)\u001b[0m\u001b[1;33m\u001b[0m\u001b[1;33m\u001b[0m\u001b[0m\n\u001b[0;32m      5\u001b[0m \u001b[1;33m\u001b[0m\u001b[0m\n",
      "\u001b[1;32m<ipython-input-52-c8086a25cc03>\u001b[0m in \u001b[0;36m<listcomp>\u001b[1;34m(.0)\u001b[0m\n\u001b[0;32m      1\u001b[0m \u001b[0mcolormap\u001b[0m \u001b[1;33m=\u001b[0m \u001b[1;34m'jet'\u001b[0m\u001b[1;33m\u001b[0m\u001b[1;33m\u001b[0m\u001b[0m\n\u001b[0;32m      2\u001b[0m \u001b[1;33m\u001b[0m\u001b[0m\n\u001b[1;32m----> 3\u001b[1;33m \u001b[0mvmin\u001b[0m \u001b[1;33m=\u001b[0m \u001b[0mnp\u001b[0m\u001b[1;33m.\u001b[0m\u001b[0mmin\u001b[0m\u001b[1;33m(\u001b[0m\u001b[1;33m[\u001b[0m\u001b[1;33m[\u001b[0m\u001b[0mrf\u001b[0m\u001b[1;33m.\u001b[0m\u001b[0mfeature_importances_\u001b[0m\u001b[1;33m.\u001b[0m\u001b[0mmin\u001b[0m\u001b[1;33m(\u001b[0m\u001b[1;33m)\u001b[0m \u001b[1;32mfor\u001b[0m \u001b[0mrf\u001b[0m \u001b[1;32min\u001b[0m \u001b[0mrfs\u001b[0m\u001b[1;33m[\u001b[0m\u001b[0mstage\u001b[0m\u001b[1;33m]\u001b[0m\u001b[1;33m.\u001b[0m\u001b[0mvalues\u001b[0m\u001b[1;33m(\u001b[0m\u001b[1;33m)\u001b[0m\u001b[1;33m]\u001b[0m \u001b[1;32mfor\u001b[0m \u001b[0mstage\u001b[0m \u001b[1;32min\u001b[0m \u001b[0mSTAGES\u001b[0m\u001b[1;33m]\u001b[0m\u001b[1;33m)\u001b[0m\u001b[1;33m\u001b[0m\u001b[1;33m\u001b[0m\u001b[0m\n\u001b[0m\u001b[0;32m      4\u001b[0m \u001b[0mvmax\u001b[0m \u001b[1;33m=\u001b[0m \u001b[0mnp\u001b[0m\u001b[1;33m.\u001b[0m\u001b[0mmax\u001b[0m\u001b[1;33m(\u001b[0m\u001b[1;33m[\u001b[0m\u001b[1;33m[\u001b[0m\u001b[0mrf\u001b[0m\u001b[1;33m.\u001b[0m\u001b[0mfeature_importances_\u001b[0m\u001b[1;33m.\u001b[0m\u001b[0mmax\u001b[0m\u001b[1;33m(\u001b[0m\u001b[1;33m)\u001b[0m \u001b[1;32mfor\u001b[0m \u001b[0mrf\u001b[0m \u001b[1;32min\u001b[0m \u001b[0mrfs\u001b[0m\u001b[1;33m[\u001b[0m\u001b[0mstage\u001b[0m\u001b[1;33m]\u001b[0m\u001b[1;33m.\u001b[0m\u001b[0mvalues\u001b[0m\u001b[1;33m(\u001b[0m\u001b[1;33m)\u001b[0m\u001b[1;33m]\u001b[0m \u001b[1;32mfor\u001b[0m \u001b[0mstage\u001b[0m \u001b[1;32min\u001b[0m \u001b[0mSTAGES\u001b[0m\u001b[1;33m]\u001b[0m\u001b[1;33m)\u001b[0m\u001b[1;33m\u001b[0m\u001b[1;33m\u001b[0m\u001b[0m\n\u001b[0;32m      5\u001b[0m \u001b[1;33m\u001b[0m\u001b[0m\n",
      "\u001b[1;32m<ipython-input-52-c8086a25cc03>\u001b[0m in \u001b[0;36m<listcomp>\u001b[1;34m(.0)\u001b[0m\n\u001b[0;32m      1\u001b[0m \u001b[0mcolormap\u001b[0m \u001b[1;33m=\u001b[0m \u001b[1;34m'jet'\u001b[0m\u001b[1;33m\u001b[0m\u001b[1;33m\u001b[0m\u001b[0m\n\u001b[0;32m      2\u001b[0m \u001b[1;33m\u001b[0m\u001b[0m\n\u001b[1;32m----> 3\u001b[1;33m \u001b[0mvmin\u001b[0m \u001b[1;33m=\u001b[0m \u001b[0mnp\u001b[0m\u001b[1;33m.\u001b[0m\u001b[0mmin\u001b[0m\u001b[1;33m(\u001b[0m\u001b[1;33m[\u001b[0m\u001b[1;33m[\u001b[0m\u001b[0mrf\u001b[0m\u001b[1;33m.\u001b[0m\u001b[0mfeature_importances_\u001b[0m\u001b[1;33m.\u001b[0m\u001b[0mmin\u001b[0m\u001b[1;33m(\u001b[0m\u001b[1;33m)\u001b[0m \u001b[1;32mfor\u001b[0m \u001b[0mrf\u001b[0m \u001b[1;32min\u001b[0m \u001b[0mrfs\u001b[0m\u001b[1;33m[\u001b[0m\u001b[0mstage\u001b[0m\u001b[1;33m]\u001b[0m\u001b[1;33m.\u001b[0m\u001b[0mvalues\u001b[0m\u001b[1;33m(\u001b[0m\u001b[1;33m)\u001b[0m\u001b[1;33m]\u001b[0m \u001b[1;32mfor\u001b[0m \u001b[0mstage\u001b[0m \u001b[1;32min\u001b[0m \u001b[0mSTAGES\u001b[0m\u001b[1;33m]\u001b[0m\u001b[1;33m)\u001b[0m\u001b[1;33m\u001b[0m\u001b[1;33m\u001b[0m\u001b[0m\n\u001b[0m\u001b[0;32m      4\u001b[0m \u001b[0mvmax\u001b[0m \u001b[1;33m=\u001b[0m \u001b[0mnp\u001b[0m\u001b[1;33m.\u001b[0m\u001b[0mmax\u001b[0m\u001b[1;33m(\u001b[0m\u001b[1;33m[\u001b[0m\u001b[1;33m[\u001b[0m\u001b[0mrf\u001b[0m\u001b[1;33m.\u001b[0m\u001b[0mfeature_importances_\u001b[0m\u001b[1;33m.\u001b[0m\u001b[0mmax\u001b[0m\u001b[1;33m(\u001b[0m\u001b[1;33m)\u001b[0m \u001b[1;32mfor\u001b[0m \u001b[0mrf\u001b[0m \u001b[1;32min\u001b[0m \u001b[0mrfs\u001b[0m\u001b[1;33m[\u001b[0m\u001b[0mstage\u001b[0m\u001b[1;33m]\u001b[0m\u001b[1;33m.\u001b[0m\u001b[0mvalues\u001b[0m\u001b[1;33m(\u001b[0m\u001b[1;33m)\u001b[0m\u001b[1;33m]\u001b[0m \u001b[1;32mfor\u001b[0m \u001b[0mstage\u001b[0m \u001b[1;32min\u001b[0m \u001b[0mSTAGES\u001b[0m\u001b[1;33m]\u001b[0m\u001b[1;33m)\u001b[0m\u001b[1;33m\u001b[0m\u001b[1;33m\u001b[0m\u001b[0m\n\u001b[0;32m      5\u001b[0m \u001b[1;33m\u001b[0m\u001b[0m\n",
      "\u001b[1;32m~\\Anaconda3\\envs\\mne\\lib\\site-packages\\sklearn\\ensemble\\forest.py\u001b[0m in \u001b[0;36mfeature_importances_\u001b[1;34m(self)\u001b[0m\n\u001b[0;32m    371\u001b[0m         \u001b[0mfeature_importances_\u001b[0m \u001b[1;33m:\u001b[0m \u001b[0marray\u001b[0m\u001b[1;33m,\u001b[0m \u001b[0mshape\u001b[0m \u001b[1;33m=\u001b[0m \u001b[1;33m[\u001b[0m\u001b[0mn_features\u001b[0m\u001b[1;33m]\u001b[0m\u001b[1;33m\u001b[0m\u001b[1;33m\u001b[0m\u001b[0m\n\u001b[0;32m    372\u001b[0m         \"\"\"\n\u001b[1;32m--> 373\u001b[1;33m         \u001b[0mcheck_is_fitted\u001b[0m\u001b[1;33m(\u001b[0m\u001b[0mself\u001b[0m\u001b[1;33m,\u001b[0m \u001b[1;34m'estimators_'\u001b[0m\u001b[1;33m)\u001b[0m\u001b[1;33m\u001b[0m\u001b[1;33m\u001b[0m\u001b[0m\n\u001b[0m\u001b[0;32m    374\u001b[0m \u001b[1;33m\u001b[0m\u001b[0m\n\u001b[0;32m    375\u001b[0m         all_importances = Parallel(n_jobs=self.n_jobs,\n",
      "\u001b[1;32m~\\Anaconda3\\envs\\mne\\lib\\site-packages\\sklearn\\utils\\validation.py\u001b[0m in \u001b[0;36mcheck_is_fitted\u001b[1;34m(estimator, attributes, msg, all_or_any)\u001b[0m\n\u001b[0;32m    949\u001b[0m \u001b[1;33m\u001b[0m\u001b[0m\n\u001b[0;32m    950\u001b[0m     \u001b[1;32mif\u001b[0m \u001b[1;32mnot\u001b[0m \u001b[0mall_or_any\u001b[0m\u001b[1;33m(\u001b[0m\u001b[1;33m[\u001b[0m\u001b[0mhasattr\u001b[0m\u001b[1;33m(\u001b[0m\u001b[0mestimator\u001b[0m\u001b[1;33m,\u001b[0m \u001b[0mattr\u001b[0m\u001b[1;33m)\u001b[0m \u001b[1;32mfor\u001b[0m \u001b[0mattr\u001b[0m \u001b[1;32min\u001b[0m \u001b[0mattributes\u001b[0m\u001b[1;33m]\u001b[0m\u001b[1;33m)\u001b[0m\u001b[1;33m:\u001b[0m\u001b[1;33m\u001b[0m\u001b[1;33m\u001b[0m\u001b[0m\n\u001b[1;32m--> 951\u001b[1;33m         \u001b[1;32mraise\u001b[0m \u001b[0mNotFittedError\u001b[0m\u001b[1;33m(\u001b[0m\u001b[0mmsg\u001b[0m \u001b[1;33m%\u001b[0m \u001b[1;33m{\u001b[0m\u001b[1;34m'name'\u001b[0m\u001b[1;33m:\u001b[0m \u001b[0mtype\u001b[0m\u001b[1;33m(\u001b[0m\u001b[0mestimator\u001b[0m\u001b[1;33m)\u001b[0m\u001b[1;33m.\u001b[0m\u001b[0m__name__\u001b[0m\u001b[1;33m}\u001b[0m\u001b[1;33m)\u001b[0m\u001b[1;33m\u001b[0m\u001b[1;33m\u001b[0m\u001b[0m\n\u001b[0m\u001b[0;32m    952\u001b[0m \u001b[1;33m\u001b[0m\u001b[0m\n\u001b[0;32m    953\u001b[0m \u001b[1;33m\u001b[0m\u001b[0m\n",
      "\u001b[1;31mNotFittedError\u001b[0m: This RandomForestClassifier instance is not fitted yet. Call 'fit' with appropriate arguments before using this method."
     ]
    }
   ],
   "source": [
    "colormap = 'jet'\n",
    "\n",
    "vmin = np.min([[rf.feature_importances_.min() for rf in rfs[stage].values()] for stage in STAGES])\n",
    "vmax = np.max([[rf.feature_importances_.max() for rf in rfs[stage].values()] for stage in STAGES])\n",
    "\n",
    "for stage in STAGES:\n",
    "    plt.figure(figsize=(18, 6))\n",
    "    plt.suptitle(f'{stage} sleep stage feature importances', y=0.8, fontsize=15)\n",
    "    \n",
    "    axes = []\n",
    "    for i, band in enumerate(BANDS):\n",
    "        ax = plt.subplot(1, len(BANDS), i + 1)\n",
    "        axes.append(ax)\n",
    "        plt.title(f'PSD {band}')\n",
    "        importance = rfs[stage][band].feature_importances_\n",
    "        viz.plot_topomap(importance, sensor_pos, cmap=colormap, vmin=vmin, vmax=vmax, contours=False, show=False)\n",
    "        \n",
    "    norm = colors.Normalize(vmin=vmin,vmax=vmax)\n",
    "    sm = plt.cm.ScalarMappable(cmap=colormap, norm=norm)\n",
    "    sm.set_array([])\n",
    "    plt.colorbar(sm, ax=axes, shrink=0.3, aspect=15)\n",
    "    plt.show()"
   ]
  }
 ],
 "metadata": {
  "kernelspec": {
   "display_name": "Python 3",
   "language": "python",
   "name": "python3"
  },
  "language_info": {
   "codemirror_mode": {
    "name": "ipython",
    "version": 3
   },
   "file_extension": ".py",
   "mimetype": "text/x-python",
   "name": "python",
   "nbconvert_exporter": "python",
   "pygments_lexer": "ipython3",
   "version": "3.6.8"
  }
 },
 "nbformat": 4,
 "nbformat_minor": 2
}
