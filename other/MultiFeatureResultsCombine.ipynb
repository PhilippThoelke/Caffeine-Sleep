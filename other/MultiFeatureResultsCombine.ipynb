{
 "cells": [
  {
   "cell_type": "code",
   "execution_count": 1,
   "metadata": {},
   "outputs": [],
   "source": [
    "import os\n",
    "import sys\n",
    "import glob\n",
    "import pickle"
   ]
  },
  {
   "cell_type": "code",
   "execution_count": 2,
   "metadata": {},
   "outputs": [],
   "source": [
    "CAF_DOSE = 400\n",
    "\n",
    "if len(sys.argv) > 1:\n",
    "    CAF_DOSE = sys.argv[1]\n",
    "\n",
    "RESULTS_PATH = 'C:\\\\Users\\\\Philipp\\\\Documents\\\\Caffeine\\\\results\\\\randomForestAll{dose}'.format(dose=CAF_DOSE)"
   ]
  },
  {
   "cell_type": "code",
   "execution_count": 8,
   "metadata": {},
   "outputs": [
    {
     "name": "stdout",
     "output_type": "stream",
     "text": [
      "Finished loading estimators\n",
      "Finished loading testing data\n",
      "Finished loading feature names\n",
      "Dropping stage REM, not all necessary files were found\n"
     ]
    }
   ],
   "source": [
    "def load(paths, data_dict):\n",
    "    for path in paths:\n",
    "        stage = path.split('.')[-2].split('-')[-1]\n",
    "        if stage not in data:\n",
    "            data_dict[stage] = []\n",
    "        with open(path, 'rb') as file:\n",
    "            data_dict[stage].append(pickle.load(file))\n",
    "\n",
    "\n",
    "data = {}\n",
    "load(glob.glob(os.path.join(RESULTS_PATH, 'estimators*')), data)\n",
    "print('Finished loading estimators')\n",
    "load(glob.glob(os.path.join(RESULTS_PATH, 'testing_data*')), data)\n",
    "print('Finished loading testing data')\n",
    "load(glob.glob(os.path.join(RESULTS_PATH, 'feature_names*')), data)\n",
    "print('Finished loading feature names')\n",
    "\n",
    "for key in list(data.keys()):\n",
    "    if len(data[key]) != 3:\n",
    "        print(f'Dropping stage {key}, not all necessary files were found')\n",
    "        del data[key]"
   ]
  },
  {
   "cell_type": "code",
   "execution_count": 9,
   "metadata": {},
   "outputs": [
    {
     "name": "stdout",
     "output_type": "stream",
     "text": [
      "Finished getting accuracies\n"
     ]
    }
   ],
   "source": [
    "accuracies = {}\n",
    "for stage in data.keys():\n",
    "    accuracies[stage] = np.array([rf.score(*test) for rf, test in zip(*data[stage][:2])])\n",
    "print('Finished getting accuracies')"
   ]
  },
  {
   "cell_type": "code",
   "execution_count": 10,
   "metadata": {},
   "outputs": [
    {
     "name": "stdout",
     "output_type": "stream",
     "text": [
      "Finished getting feature importances\n"
     ]
    }
   ],
   "source": [
    "importances = {}\n",
    "for stage in data.keys():\n",
    "    importances[stage] = np.array([rf.feature_importances_ for rf in data[stage][0]])\n",
    "print('Finished getting feature importances')"
   ]
  },
  {
   "cell_type": "code",
   "execution_count": 11,
   "metadata": {},
   "outputs": [
    {
     "name": "stdout",
     "output_type": "stream",
     "text": [
      "Finished getting feature names\n"
     ]
    }
   ],
   "source": [
    "feature_names = {}\n",
    "for stage in data.keys():\n",
    "    feature_names[stage] = np.array([names for names in data[stage][2]])\n",
    "print('Finished getting feature names')"
   ]
  },
  {
   "cell_type": "code",
   "execution_count": 12,
   "metadata": {},
   "outputs": [
    {
     "name": "stdout",
     "output_type": "stream",
     "text": [
      "Results saved in \"C:\\Users\\Philipp\\Documents\\Caffeine\\results\\randomForestAll400\\combined_results.pickle\"\n"
     ]
    }
   ],
   "source": [
    "with open(os.path.join(RESULTS_PATH, 'combined_results.pickle'), 'wb') as file:\n",
    "    pickle.dump((accuracies, importances, feature_names), file)\n",
    "    print(f'Results saved in \"{file.name}\"')"
   ]
  },
  {
   "cell_type": "code",
   "execution_count": null,
   "metadata": {},
   "outputs": [],
   "source": []
  }
 ],
 "metadata": {
  "kernelspec": {
   "display_name": "Python 3",
   "language": "python",
   "name": "python3"
  },
  "language_info": {
   "codemirror_mode": {
    "name": "ipython",
    "version": 3
   },
   "file_extension": ".py",
   "mimetype": "text/x-python",
   "name": "python",
   "nbconvert_exporter": "python",
   "pygments_lexer": "ipython3",
   "version": "3.6.8"
  }
 },
 "nbformat": 4,
 "nbformat_minor": 2
}
