{
 "cells": [
  {
   "cell_type": "code",
   "execution_count": null,
   "metadata": {},
   "outputs": [],
   "source": [
    "import os\n",
    "import pickle\n",
    "import numpy as np\n",
    "from mne import viz\n",
    "from scipy import io\n",
    "from matplotlib import colors, pyplot as plt\n",
    "from sklearn import model_selection, ensemble, svm, discriminant_analysis, neighbors, linear_model"
   ]
  },
  {
   "cell_type": "code",
   "execution_count": null,
   "metadata": {},
   "outputs": [],
   "source": [
    "CAF_DOSE = 200\n",
    "SIGNIFICANT_P = 0.05\n",
    "\n",
    "CLASSIFIER = 'SVM' # SVM, LDA, QDA, GradientBoosting, KNeighbors, SGD-LOG, SGD-PERC\n",
    "\n",
    "DATA_PATH = 'C:\\\\Users\\\\Philipp\\\\Documents\\\\Caffeine\\\\Features{dose}\\\\Combined'.format(dose=CAF_DOSE)\n",
    "PROJECT_PATH = 'E:\\\\Cafeine_data'\n",
    "RESULTS_PATH = '..\\\\results'\n",
    "\n",
    "STAGES = ['AWA', 'AWSL', 'NREM', 'REM']\n",
    "BANDS = ['delta', 'theta', 'alpha', 'sigma', 'beta', 'low gamma']"
   ]
  },
  {
   "cell_type": "code",
   "execution_count": null,
   "metadata": {},
   "outputs": [],
   "source": [
    "sensor_pos = io.loadmat(os.path.join(PROJECT_PATH, 'Coo_caf'))['Cor'].T\n",
    "sensor_pos = np.array([sensor_pos[1], sensor_pos[0]]).T"
   ]
  },
  {
   "cell_type": "code",
   "execution_count": null,
   "metadata": {},
   "outputs": [],
   "source": [
    "with open(os.path.join(DATA_PATH, 'data.pickle'), 'rb') as file:\n",
    "    data = pickle.load(file)\n",
    "with open(os.path.join(DATA_PATH, 'labels.pickle'), 'rb') as file:\n",
    "    labels = pickle.load(file)\n",
    "with open(os.path.join(DATA_PATH, 'groups.pickle'), 'rb') as file:\n",
    "    groups = pickle.load(file)"
   ]
  },
  {
   "cell_type": "code",
   "execution_count": null,
   "metadata": {
    "scrolled": false
   },
   "outputs": [],
   "source": [
    "scores = {}\n",
    "for stage in data.keys():\n",
    "    scores[stage] = {}\n",
    "    print(f'Sleep stage {stage}')\n",
    "    for feature in data[stage].keys():\n",
    "        scores[stage][feature] = []\n",
    "        for electrode in range(20):\n",
    "            print(f'   Training {CLASSIFIER} for feature {feature} (electrode {electrode + 1:2})...', end='\\r')\n",
    "            \n",
    "            if CLASSIFIER.lower() == 'svm':\n",
    "                clf = svm.SVC(gamma='scale')\n",
    "            elif CLASSIFIER.lower() == 'lda':\n",
    "                clf = discriminant_analysis.LinearDiscriminantAnalysis()\n",
    "            elif CLASSIFIER.lower() == 'qda':\n",
    "                clf = discriminant_analysis.QuadraticDiscriminantAnalysis()\n",
    "            elif CLASSIFIER.lower() == 'gradientboosting':\n",
    "                clf = ensemble.GradientBoostingClassifier(n_estimators=100)\n",
    "            elif CLASSIFIER.lower() == 'kneighbors':\n",
    "                clf = neighbors.KNeighborsClassifier()\n",
    "            elif CLASSIFIER.lower() == 'sgd-log':\n",
    "                clf = linear_model.SGDClassifier(loss='log', max_iter=1000, tol=1e-3)\n",
    "            elif CLASSIFIER.lower() == 'sgd-perc':\n",
    "                clf = linear_model.SGDClassifier(loss='perceptron', max_iter=1000, tol=1e-3)\n",
    "            \n",
    "            current = model_selection.permutation_test_score(estimator=clf,\n",
    "                                                             X=data[stage][feature][:,electrode].reshape((-1, 1)),\n",
    "                                                             y=labels[stage],\n",
    "                                                             groups=groups[stage],\n",
    "                                                             cv=10,\n",
    "                                                             n_permutations=1000,\n",
    "                                                             n_jobs=-1)\n",
    "            scores[stage][feature].append(current)\n",
    "        print()"
   ]
  },
  {
   "cell_type": "code",
   "execution_count": null,
   "metadata": {},
   "outputs": [],
   "source": [
    "with open(os.path.join(RESULTS_PATH, f'scores{CAF_DOSE}', f'scores_individual_{CLASSIFIER}.pickle'), 'wb') as file:\n",
    "    pickle.dump(scores, file)"
   ]
  },
  {
   "cell_type": "code",
   "execution_count": null,
   "metadata": {},
   "outputs": [],
   "source": [
    "all_scores = [[[elec[0] for elec in ft] for ft in stage.values()] for stage in scores.values()]\n",
    "vmin = np.min(all_scores)\n",
    "vmax = np.max(all_scores)\n",
    "\n",
    "print(f'Min accuracy: {vmin * 100:.2f}%')\n",
    "print(f'Max accuracy: {vmax * 100:.2f}%')\n",
    "print(f'Mean accuracy: {np.mean(all_scores) * 100:.2f}%')"
   ]
  },
  {
   "cell_type": "code",
   "execution_count": null,
   "metadata": {
    "scrolled": false
   },
   "outputs": [],
   "source": [
    "plot_rows = 2\n",
    "plot_cols = 5\n",
    "colormap = 'jet'\n",
    "\n",
    "for stage in STAGES:\n",
    "    plt.figure(figsize=(18, 5))\n",
    "    plt.suptitle(stage, y=1.05, fontsize=20)\n",
    "    \n",
    "    all_scores = [[elec[0] for elec in ft] for ft in scores[stage].values()]\n",
    "    vmin = np.min(all_scores)\n",
    "    vmax = np.max(all_scores)\n",
    "    \n",
    "    subplot_index = 1\n",
    "    axes = []\n",
    "    for feature in scores[stage].keys():\n",
    "        curr_acc = np.array([score[0] for score in scores[stage][feature]])\n",
    "        curr_sig = np.array([score[2] for score in scores[stage][feature]])\n",
    "        \n",
    "        ax = plt.subplot(plot_rows, plot_cols, subplot_index)\n",
    "        axes.append(ax)\n",
    "        plt.title(feature)\n",
    "        mask = curr_sig < SIGNIFICANT_P\n",
    "        viz.plot_topomap(curr_acc, sensor_pos, mask=mask, cmap=colormap, vmin=vmin, vmax=vmax, contours=False, show=False)\n",
    "        subplot_index += 1\n",
    "    \n",
    "    norm = colors.Normalize(vmin=vmin,vmax=vmax)\n",
    "    sm = plt.cm.ScalarMappable(cmap=colormap, norm=norm)\n",
    "    sm.set_array([])\n",
    "    plt.colorbar(sm, ax=axes, shrink=0.95, aspect=15)\n",
    "    plt.savefig(os.path.join(RESULTS_PATH, f'figures{CAF_DOSE}', f'{CLASSIFIER}_DA_individual_{stage}.png'))\n",
    "    plt.show()"
   ]
  }
 ],
 "metadata": {
  "kernelspec": {
   "display_name": "Python 3",
   "language": "python",
   "name": "python3"
  },
  "language_info": {
   "codemirror_mode": {
    "name": "ipython",
    "version": 3
   },
   "file_extension": ".py",
   "mimetype": "text/x-python",
   "name": "python",
   "nbconvert_exporter": "python",
   "pygments_lexer": "ipython3",
   "version": "3.6.8"
  }
 },
 "nbformat": 4,
 "nbformat_minor": 2
}
