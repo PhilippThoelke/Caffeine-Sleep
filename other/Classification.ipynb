{
 "cells": [
  {
   "cell_type": "code",
   "execution_count": 1,
   "metadata": {},
   "outputs": [],
   "source": [
    "import os\n",
    "import pickle\n",
    "import numpy as np\n",
    "from sklearn import decomposition, model_selection, neural_network"
   ]
  },
  {
   "cell_type": "code",
   "execution_count": 2,
   "metadata": {},
   "outputs": [],
   "source": [
    "CAF_DOSE = 200\n",
    "\n",
    "FEATURE_PATH = 'C:\\\\Users\\\\Philipp\\\\Documents\\\\Caffeine\\\\Features{dose}\\\\Combined'.format(dose=CAF_DOSE)\n",
    "\n",
    "STAGES = ['AWA', 'NREM', 'REM']"
   ]
  },
  {
   "cell_type": "code",
   "execution_count": 3,
   "metadata": {},
   "outputs": [],
   "source": [
    "with open(os.path.join(FEATURE_PATH, 'data_avg.pickle'), 'rb') as file:\n",
    "    data = pickle.load(file)\n",
    "with open(os.path.join(FEATURE_PATH, 'labels_avg.pickle'), 'rb') as file:\n",
    "    y = pickle.load(file)\n",
    "with open(os.path.join(FEATURE_PATH, 'groups_avg.pickle'), 'rb') as file:\n",
    "    groups = pickle.load(file)"
   ]
  },
  {
   "cell_type": "code",
   "execution_count": 7,
   "metadata": {},
   "outputs": [],
   "source": [
    "x = {}\n",
    "features = []\n",
    "for stage in STAGES:\n",
    "    x[stage] = []\n",
    "    for feature in data[stage].keys():\n",
    "        features.append(feature)\n",
    "        x[stage].append(data[stage][feature])\n",
    "        \n",
    "    x[stage] = np.concatenate(x[stage], axis=1)\n",
    "    \n",
    "for stage in STAGES:\n",
    "    pca = decomposition.PCA(n_components=20)\n",
    "    x[stage] = pca.fit_transform(x[stage])"
   ]
  },
  {
   "cell_type": "code",
   "execution_count": 8,
   "metadata": {},
   "outputs": [
    {
     "name": "stdout",
     "output_type": "stream",
     "text": [
      "Training classifier on AWA...\n"
     ]
    },
    {
     "name": "stderr",
     "output_type": "stream",
     "text": [
      "C:\\Users\\Philipp\\Anaconda3\\envs\\mne\\lib\\site-packages\\sklearn\\externals\\joblib\\externals\\loky\\process_executor.py:706: UserWarning: A worker stopped while some jobs were given to the executor. This can be caused by a too short worker timeout or by a memory leak.\n",
      "  \"timeout or by a memory leak.\", UserWarning\n"
     ]
    },
    {
     "name": "stdout",
     "output_type": "stream",
     "text": [
      "Training classifier on NREM...\n",
      "Training classifier on REM...\n"
     ]
    }
   ],
   "source": [
    "searches = {}\n",
    "for stage in STAGES:\n",
    "    print(f'Training classifier on {stage}...')\n",
    "    clf = neural_network.MLPClassifier(max_iter=1000)\n",
    "    '''grid = {'hidden_layer_sizes': [(128,), (64,),\n",
    "                                   (256, 64), (128, 64), (64, 32),\n",
    "                                   (128, 64, 32), (256, 128, 64)],\n",
    "            'activation': ['relu', 'tanh']}'''\n",
    "    grid = {'hidden_layer_sizes': [(32,),\n",
    "                                   (32, 16), (64, 32),\n",
    "                                   (64, 32, 16), (32, 16, 8)],\n",
    "            'activation': ['relu', 'tanh']}\n",
    "    searches[stage] = model_selection.GridSearchCV(estimator=clf,\n",
    "                                                   param_grid=grid,\n",
    "                                                   scoring='accuracy',\n",
    "                                                   cv=10,\n",
    "                                                   iid=False,\n",
    "                                                   n_jobs=-1)\n",
    "    searches[stage].fit(x[stage], y[stage], groups=groups[stage])"
   ]
  },
  {
   "cell_type": "code",
   "execution_count": 9,
   "metadata": {},
   "outputs": [
    {
     "name": "stdout",
     "output_type": "stream",
     "text": [
      "AWA : 55.00% {'activation': 'tanh', 'hidden_layer_sizes': (64, 32)}\n",
      "NREM: 61.67% {'activation': 'relu', 'hidden_layer_sizes': (32, 16)}\n",
      "REM : 56.25% {'activation': 'relu', 'hidden_layer_sizes': (32, 16, 8)}\n"
     ]
    }
   ],
   "source": [
    "for stage in STAGES:\n",
    "    print(f'{stage:4}: {searches[stage].best_score_ * 100:.2f}%', searches[stage].best_params_)"
   ]
  },
  {
   "cell_type": "code",
   "execution_count": null,
   "metadata": {},
   "outputs": [],
   "source": []
  }
 ],
 "metadata": {
  "kernelspec": {
   "display_name": "Python 3",
   "language": "python",
   "name": "python3"
  },
  "language_info": {
   "codemirror_mode": {
    "name": "ipython",
    "version": 3
   },
   "file_extension": ".py",
   "mimetype": "text/x-python",
   "name": "python",
   "nbconvert_exporter": "python",
   "pygments_lexer": "ipython3",
   "version": "3.6.8"
  }
 },
 "nbformat": 4,
 "nbformat_minor": 2
}
