{
 "cells": [
  {
   "cell_type": "code",
   "execution_count": 1,
   "metadata": {},
   "outputs": [],
   "source": [
    "import os\n",
    "import pickle\n",
    "import numpy as np\n",
    "import pandas as pd\n",
    "from scipy import io\n",
    "from mne import viz, stats\n",
    "from matplotlib import colors, gridspec, offsetbox, pyplot as plt\n",
    "from IPython.display import display"
   ]
  },
  {
   "cell_type": "code",
   "execution_count": 2,
   "metadata": {},
   "outputs": [],
   "source": [
    "CAF_DOSE = 200\n",
    "SIGNIFICANT_P = 0.05\n",
    "\n",
    "do_logistic_regression = False\n",
    "\n",
    "PROJECT_PATH = '../data' # path to where the EEG sensor position file is stored\n",
    "RESULTS_PATH = '../results'\n",
    "FIGURE_PATH = '../figures'\n",
    "MODEL_DIR = \"logisticRegression200\" if do_logistic_regression else f\"new_score_rf{CAF_DOSE}\"\n",
    "TWO_SIDED_IMPORTANCES = do_logistic_regression\n",
    "\n",
    "STAGES = ['AWSL', 'NREM', 'REM']\n",
    "BANDS = ['delta', 'theta', 'alpha', 'sigma', 'beta', 'low gamma']\n",
    "CHANNELS = ['Fp1', 'Fp2', 'F3', 'F4', 'F7', 'F8', 'C3', 'C4', 'P3', 'P4',\n",
    "            'O1', 'O2', 'T3', 'T4', 'T5', 'T6', 'Fz', 'Cz', 'Pz', 'Oz']\n",
    "FEATURES = ['PSD_delta', 'PSD_theta', 'PSD_alpha', 'PSD_sigma', 'PSD_beta', 'PSD_low gamma',\n",
    "            'SpecShanEn', 'SampEn', 'SpecSampEn', 'PermEn', 'SpecPermEn']\n",
    "\n",
    "delete_features = ['PSD_alpha', 'PSD_beta', 'PSD_low gamma', 'PermEn']"
   ]
  },
  {
   "cell_type": "markdown",
   "metadata": {},
   "source": [
    "# Load data"
   ]
  },
  {
   "cell_type": "code",
   "execution_count": 3,
   "metadata": {},
   "outputs": [],
   "source": [
    "# load EEG sensor positions to be used in the topomaps\n",
    "sensor_pos = io.loadmat(os.path.join(PROJECT_PATH, 'Coo_caf'))['Cor'].T\n",
    "sensor_pos = np.array([sensor_pos[1], sensor_pos[0]]).T"
   ]
  },
  {
   "cell_type": "code",
   "execution_count": 4,
   "metadata": {},
   "outputs": [],
   "source": [
    "importances = {}\n",
    "scores = {}\n",
    "feature_names = {}\n",
    "\n",
    "for stage in STAGES:\n",
    "    with open(os.path.join(RESULTS_PATH, MODEL_DIR, f'specpermen_importances-{stage}.pickle'), 'rb') as file:\n",
    "        importances[stage] = pickle.load(file)\n",
    "    with open(os.path.join(RESULTS_PATH, MODEL_DIR, f'specpermen_scores-{stage}.pickle'), 'rb') as file:\n",
    "        scores[stage] = pickle.load(file)\n",
    "    with open(os.path.join(RESULTS_PATH, MODEL_DIR, f'specpermen_feature_names-{stage}.pickle'), 'rb') as file:\n",
    "        feature_names[stage] = pickle.load(file)"
   ]
  },
  {
   "cell_type": "code",
   "execution_count": 5,
   "metadata": {},
   "outputs": [],
   "source": [
    "importance_means = {}\n",
    "importance_stds = {}\n",
    "for stage in STAGES:\n",
    "    importance_means[stage] = np.mean(importances[stage], axis=0)\n",
    "    importance_stds[stage] = np.std(importances[stage], axis=0)\n",
    "\n",
    "score_means = {}\n",
    "score_stds = {}\n",
    "for stage in STAGES:\n",
    "    score_means[stage] = np.mean(scores[stage])\n",
    "    score_stds[stage] = np.std(scores[stage])"
   ]
  },
  {
   "cell_type": "markdown",
   "metadata": {},
   "source": [
    "# Create figures"
   ]
  },
  {
   "cell_type": "code",
   "execution_count": 6,
   "metadata": {},
   "outputs": [],
   "source": [
    "feature_colors = {\n",
    "    'PSD_delta': '#FF0000',\n",
    "    'PSD_theta': '#FF2B00',\n",
    "    'PSD_alpha': '#FF5600',\n",
    "    'PSD_sigma': '#FF8100',\n",
    "    'PSD_beta': '#FFAC00',\n",
    "    'PSD_low gamma': '#FFD700',\n",
    "    'SpecShanEn': '#00FFFF',\n",
    "    'SampEn': '#00C9FF',\n",
    "    'SpecSampEn': '#0099FF',\n",
    "    'PermEn': '#005EFF',\n",
    "    'SpecPermEn': '#0028FF'\n",
    "}"
   ]
  },
  {
   "cell_type": "markdown",
   "metadata": {},
   "source": [
    "## Decoding accuracy"
   ]
  },
  {
   "cell_type": "code",
   "execution_count": 7,
   "metadata": {},
   "outputs": [
    {
     "data": {
      "image/png": "[encoded data removed]",
      "text/plain": [
       "<Figure size 1296x288 with 1 Axes>"
      ]
     },
     "metadata": {
      "needs_background": "light"
     },
     "output_type": "display_data"
    }
   ],
   "source": [
    "plt.figure(figsize=(18, 4))\n",
    "plt.title('Average random forest classification accuracy')\n",
    "plt.bar(np.arange(len(score_means)), score_means.values(), yerr=score_stds.values())\n",
    "\n",
    "ticks = [stage.replace('AWSL', 'AWA') + f' ({acc*100:.2f}%, s={std:.2f})'\n",
    "         for stage, acc, std in zip(STAGES, score_means.values(), score_stds.values())]\n",
    "plt.xticks(np.arange(len(score_means)), ticks)\n",
    "plt.grid()\n",
    "plt.show()"
   ]
  },
  {
   "cell_type": "markdown",
   "metadata": {},
   "source": [
    "# Feature importance bar plots\n",
    "Creates bar plots for each sleep stage with color coding for different types of features. The embedded topomap shows the location of the most important feature of a particular sleep stage."
   ]
  },
  {
   "cell_type": "code",
   "execution_count": 8,
   "metadata": {
    "scrolled": true
   },
   "outputs": [
    {
     "name": "stderr",
     "output_type": "stream",
     "text": [
      "<ipython-input-8-000d1f5072f4>:2: DeprecationWarning: `np.bool` is a deprecated alias for the builtin `bool`. To silence this warning, use `bool` by itself. Doing this will not modify any behavior and is safe. If you specifically wanted the numpy scalar type, use `np.bool_` here.\n",
      "Deprecated in NumPy 1.20; for more details and guidance: https://numpy.org/devdocs/release/1.20.0-notes.html#deprecations\n",
      "  mask = np.zeros(20, dtype=np.bool)\n",
      "<ipython-input-8-000d1f5072f4>:2: DeprecationWarning: `np.bool` is a deprecated alias for the builtin `bool`. To silence this warning, use `bool` by itself. Doing this will not modify any behavior and is safe. If you specifically wanted the numpy scalar type, use `np.bool_` here.\n",
      "Deprecated in NumPy 1.20; for more details and guidance: https://numpy.org/devdocs/release/1.20.0-notes.html#deprecations\n",
      "  mask = np.zeros(20, dtype=np.bool)\n",
      "<ipython-input-8-000d1f5072f4>:2: DeprecationWarning: `np.bool` is a deprecated alias for the builtin `bool`. To silence this warning, use `bool` by itself. Doing this will not modify any behavior and is safe. If you specifically wanted the numpy scalar type, use `np.bool_` here.\n",
      "Deprecated in NumPy 1.20; for more details and guidance: https://numpy.org/devdocs/release/1.20.0-notes.html#deprecations\n",
      "  mask = np.zeros(20, dtype=np.bool)\n"
     ]
    },
    {
     "data": {
      "image/png": "[encoded data removed]",
      "text/plain": [
       "<Figure size 432x288 with 1 Axes>"
      ]
     },
     "metadata": {},
     "output_type": "display_data"
    },
    {
     "data": {
      "image/png": "[encoded data removed]",
      "text/plain": [
       "<Figure size 432x288 with 1 Axes>"
      ]
     },
     "metadata": {},
     "output_type": "display_data"
    },
    {
     "data": {
      "image/png": "[encoded data removed]",
      "text/plain": [
       "<Figure size 432x288 with 1 Axes>"
      ]
     },
     "metadata": {},
     "output_type": "display_data"
    }
   ],
   "source": [
    "for stage in STAGES:\n",
    "    mask = np.zeros(20, dtype=np.bool)\n",
    "    mask[importance_means[stage].argmax() % 20] = True\n",
    "    feat = FEATURES[int(importance_means[stage].argmax() / len(importance_means[stage]) * len(FEATURES))]\n",
    "    plt.figure()\n",
    "    viz.plot_topomap(np.ones(20), sensor_pos, mask=mask,\n",
    "                     mask_params=dict(marker='o', markerfacecolor=feature_colors[feat],\n",
    "                                      markeredgecolor=feature_colors[feat], markersize=14),\n",
    "                     cmap=\"gray\", contours=False, show=False)\n",
    "    plt.tight_layout()\n",
    "    plt.savefig(f\"/tmp/feature_pos_{stage}.png\", dpi=300, transparent=True, bbox_inches=\"tight\", pad_inches=0)"
   ]
  },
  {
   "cell_type": "code",
   "execution_count": null,
   "metadata": {},
   "outputs": [],
   "source": [
    "fontsize_big = 20\n",
    "fontsize_small = 13\n",
    "\n",
    "# create gridspec\n",
    "gs = gridspec.GridSpec(len(STAGES), 2, width_ratios=[0.065, 1], wspace=0, hspace=0.075)\n",
    "subplot_index = 0\n",
    "plt.figure(figsize=(18, 15))\n",
    "\n",
    "for stage in STAGES:\n",
    "    # add current stage annotation\n",
    "    plt.subplot(gs[subplot_index])\n",
    "    subplot_index += 1\n",
    "    plt.annotate(stage.replace('AWSL', 'awake').replace('NREM', 'non-REM'),\n",
    "                 xy=(0, 0.5),\n",
    "                 va='center',\n",
    "                 ha='center',\n",
    "                 fontsize=fontsize_big,\n",
    "                 rotation=90)\n",
    "    plt.axis('off')\n",
    "    \n",
    "    plt.subplot(gs[subplot_index])\n",
    "    subplot_index += 1\n",
    "    \n",
    "    # get sorted indices for the importances\n",
    "    indices = np.argsort(importance_means[stage])[::-1]\n",
    "    \n",
    "    # plot bars for each feature\n",
    "    for category in FEATURES:\n",
    "        mask = [category in name for name in feature_names[stage][indices]]\n",
    "        if np.sum(mask) > 0:\n",
    "            name = category.replace('_', ' ').replace('Shan', '')\n",
    "            \n",
    "            # plot bars of current feature\n",
    "            plt.bar(np.arange(len(indices))[mask],\n",
    "                    importance_means[stage][indices][mask],\n",
    "                    label=name,\n",
    "                    color=feature_colors[category])\n",
    "\n",
    "    # insert topomap with location of most important feature\n",
    "    imgbox = offsetbox.OffsetImage(plt.imread(f\"/tmp/feature_pos_{stage}.png\"), zoom=0.15)\n",
    "    annotbox = offsetbox.AnnotationBbox(imgbox, (1, 1), xycoords=\"axes fraction\",\n",
    "                                        box_alignment=(1, 1), frameon=False)\n",
    "    plt.gca().add_artist(annotbox)\n",
    "    \n",
    "    # remove x ticks\n",
    "    plt.xticks([])\n",
    "    # add legend\n",
    "    if stage == STAGES[0]:\n",
    "        plt.legend(fontsize=fontsize_small, loc=\"upper center\")\n",
    "\n",
    "plt.savefig(os.path.join(FIGURE_PATH, f'fig_3-rf-bars'),\n",
    "            bbox_inches='tight',\n",
    "            transparent=True,\n",
    "            dpi=300)\n",
    "plt.show()"
   ]
  },
  {
   "cell_type": "markdown",
   "metadata": {},
   "source": [
    "## Top features table\n",
    "Tables containing the top 10 features for each sleep stage, including the electrode name and absolute importance score."
   ]
  },
  {
   "cell_type": "code",
   "execution_count": null,
   "metadata": {},
   "outputs": [],
   "source": [
    "def format_fields(args):\n",
    "    rank, feat, ch, importance = args\n",
    "    return f\"{feat}\\t{ch}\\t{importance:.3f}\"\n",
    "\n",
    "pd.options.display.float_format = '{:,.3f}'.format\n",
    "\n",
    "for stage in STAGES:\n",
    "    idxs = np.argsort(importance_means[stage])[::-1][:10]\n",
    "    feat = [FEATURES[int(i / len(importance_means[stage]) * len(FEATURES))] for i in idxs]\n",
    "    chs = [CHANNELS[i % 20] for i in idxs]\n",
    "    \n",
    "    print(stage.replace('AWSL', 'awake').replace('NREM', 'non-REM'))\n",
    "    display(pd.DataFrame(columns=[\"feature\", \"electrode\", \"importance\"],\n",
    "                         data=zip([f.replace('_', ' ').replace('Shan', '') for f in feat],\n",
    "                                  chs,\n",
    "                                  importance_means[stage][idxs])))\n",
    "    print()"
   ]
  },
  {
   "cell_type": "markdown",
   "metadata": {},
   "source": [
    "## Importance distribution by features"
   ]
  },
  {
   "cell_type": "code",
   "execution_count": null,
   "metadata": {
    "scrolled": false
   },
   "outputs": [],
   "source": [
    "plt.figure(figsize=(18, 5))\n",
    "\n",
    "for i, stage in enumerate(STAGES):\n",
    "    indices = np.argsort(importance_means[stage])[::-1][:int(len(importance_means[stage])*0.1)]\n",
    "    occurences = [name.split('-')[0] for name in feature_names[stage][indices]]\n",
    "    shares = np.array([[feature, occurences.count(feature)] for feature in np.unique(occurences)])\n",
    "    \n",
    "    total = importance_means[stage][indices].sum() / importance_means[stage].sum()\n",
    "    \n",
    "    plt.subplot(1, 3, i + 1)\n",
    "    plt.title(f'{stage.replace(\"AWSL\", \"awake\").replace(\"NREM\", \"non-REM\")} ({total*100:.1f}%)', fontsize=20)\n",
    "    plt.pie(shares[:,1], labels=shares[:,0], autopct=lambda x: f'{x:.1f}%')\n",
    "plt.show()"
   ]
  },
  {
   "cell_type": "code",
   "execution_count": null,
   "metadata": {},
   "outputs": [],
   "source": [
    "print('Maximum feature importance')\n",
    "for stage in STAGES:\n",
    "    max_value = importance_means[stage].max() / importance_means[stage].sum()\n",
    "    print(f'{stage.replace(\"AWSL\", \"awake\").replace(\"NREM\", \"non-REM\")}: {max_value*100:.1f}%')"
   ]
  },
  {
   "cell_type": "markdown",
   "metadata": {},
   "source": [
    "## Aggregated importance per feature and sleep stage"
   ]
  },
  {
   "cell_type": "code",
   "execution_count": null,
   "metadata": {},
   "outputs": [],
   "source": [
    "fontsize_small = 13\n",
    "fontsize_big = 20\n",
    "\n",
    "# get feature categories, remove duplicate elements from list while preserving order\n",
    "seen = set()\n",
    "seen_add = seen.add\n",
    "feature_categories = [name.split('-')[0] for name in feature_names[STAGES[0]] if not (name.split('-')[0] in seen or seen_add(name.split('-')[0]))]\n",
    "\n",
    "# sum up importance means\n",
    "matrix = np.empty((len(STAGES), len(feature_categories)))\n",
    "for i, stage in enumerate(STAGES):\n",
    "    for j, category in enumerate(feature_categories):\n",
    "        mask = [category == name.split('-')[0] for name in feature_names[stage]]\n",
    "        matrix[i,j] = np.sum(importance_means[stage][mask])\n",
    "\n",
    "# get feature names\n",
    "names = []\n",
    "for name in feature_categories:\n",
    "    name = name.replace('_', ' ').replace('Shan', '')\n",
    "    names.append(name)\n",
    "        \n",
    "plt.figure(figsize=(15, 6))\n",
    "# plot importance matrix\n",
    "plt.imshow(matrix, cmap='Reds')\n",
    "\n",
    "# set x- and y-ticks\n",
    "plt.xticks(np.arange(len(feature_categories)), names, rotation=90, fontsize=fontsize_small)\n",
    "plt.yticks(np.arange(len(STAGES)),\n",
    "           [stage.replace('AWSL', 'awake').replace('NREM', 'non-REM') for stage in STAGES],\n",
    "           fontsize=fontsize_small)\n",
    "\n",
    "# add colorbar\n",
    "plt.colorbar(shrink=0.525, aspect=11)\n",
    "plt.show()"
   ]
  },
  {
   "cell_type": "markdown",
   "metadata": {},
   "source": [
    "## Feature importance topomaps"
   ]
  },
  {
   "cell_type": "code",
   "execution_count": null,
   "metadata": {
    "scrolled": false
   },
   "outputs": [],
   "source": [
    "fontsize_small = 13\n",
    "fontsize_big = 20\n",
    "colormap = 'coolwarm' if TWO_SIDED_IMPORTANCES else \"Reds\"\n",
    "\n",
    "# groups feature importances by feature\n",
    "importance = {}\n",
    "for stage in STAGES:\n",
    "    mean = importance_means[stage].reshape((-1, 20))\n",
    "    features = [name.split('-')[0] for name in feature_names[stage][::20]]\n",
    "    importance[stage] = dict([(feature, curr) for feature, curr in zip(features, mean)])\n",
    "\n",
    "width = len(STAGES)\n",
    "height = len(importance[STAGES[0]])\n",
    "\n",
    "# create gridspec\n",
    "gs = gridspec.GridSpec(height + 2,\n",
    "                       width + 1,\n",
    "                       width_ratios=[0.001] + [1] * width,\n",
    "                       height_ratios=[0.01] + [1] * height + [0.175])\n",
    "subplot_counter = 1\n",
    "#plt.figure(figsize=(6, 12)) # poster version\n",
    "plt.figure(figsize=(6, 18)) # full version\n",
    "\n",
    "# add stage annotations\n",
    "for stage in STAGES:\n",
    "    plt.subplot(gs[subplot_counter])\n",
    "    subplot_counter += 1\n",
    "    plt.annotate(stage.replace('AWSL', 'awake').replace('NREM', 'non-REM'),\n",
    "                 xy=(0.5, 0),\n",
    "                 ha='center',\n",
    "                 va='top',\n",
    "                 fontsize=fontsize_small)\n",
    "    plt.axis('off')\n",
    "\n",
    "vmin = {}\n",
    "vmax = {}\n",
    "feature_labels = []\n",
    "for feature in importance[STAGES[0]].keys():\n",
    "    # add feature name annotations\n",
    "    plt.subplot(gs[subplot_counter])\n",
    "    subplot_counter += 1\n",
    "    \n",
    "    name = feature.replace('_', ' ').replace('SpecShanEn', 'SpecEn')\n",
    "    feature_labels.append(plt.annotate(name,\n",
    "                                       xy=(1, 0.5),\n",
    "                                       ha='right',\n",
    "                                       va='center',\n",
    "                                       fontsize=fontsize_small))\n",
    "    plt.axis('off')\n",
    "    \n",
    "    axes = []\n",
    "    for stage in STAGES:\n",
    "        axes.append(plt.subplot(gs[subplot_counter]))\n",
    "        subplot_counter += 1\n",
    "        \n",
    "        # get min and max value for plots and colormaps\n",
    "        vmin[stage] = np.min([np.min(importance[stage][ft]) for ft in importance[STAGES[0]].keys()])\n",
    "        vmax[stage] = np.max([np.max(importance[stage][ft]) for ft in importance[STAGES[0]].keys()])\n",
    "        \n",
    "        if TWO_SIDED_IMPORTANCES:\n",
    "            absmax = max(abs(vmin[stage]), abs(vmax[stage]))\n",
    "            vmin[stage] = -absmax\n",
    "            vmax[stage] = absmax\n",
    "        \n",
    "        # plot topomaps\n",
    "        viz.plot_topomap(importance[stage][feature],\n",
    "                         sensor_pos,\n",
    "                         vmin=vmin[stage],\n",
    "                         vmax=vmax[stage],\n",
    "                         cmap=colormap,\n",
    "                         contours=False,\n",
    "                         show=False)\n",
    "\n",
    "# add colorbars\n",
    "subplot_counter += 1\n",
    "for stage in STAGES:\n",
    "    norm = colors.Normalize(vmin=vmin[stage],vmax=vmax[stage])\n",
    "    sm = plt.cm.ScalarMappable(cmap=colormap, norm=norm)\n",
    "    sm.set_array([])\n",
    "    cbar = plt.colorbar(sm, cax=plt.subplot(gs[subplot_counter]), orientation='horizontal')\n",
    "    # set colorbar ticks\n",
    "    cbar.set_ticks([round(vmin[stage] + val * (vmax[stage] - vmin[stage]), 3) for val in [0.1, 0.5, 0.9]])\n",
    "    subplot_counter += 1\n",
    "    \n",
    "plt.savefig(os.path.join(FIGURE_PATH, f'fig_4-rf-topo'),\n",
    "            bbox_inches='tight',\n",
    "            bbox_extra_artists=feature_labels,\n",
    "            transparent=True,\n",
    "            dpi=300)\n",
    "plt.show()"
   ]
  },
  {
   "cell_type": "code",
   "execution_count": null,
   "metadata": {},
   "outputs": [],
   "source": []
  }
 ],
 "metadata": {
  "kernelspec": {
   "display_name": "Python 3",
   "language": "python",
   "name": "python3"
  },
  "language_info": {
   "codemirror_mode": {
    "name": "ipython",
    "version": 3
   },
   "file_extension": ".py",
   "mimetype": "text/x-python",
   "name": "python",
   "nbconvert_exporter": "python",
   "pygments_lexer": "ipython3",
   "version": "3.8.2"
  }
 },
 "nbformat": 4,
 "nbformat_minor": 2
}
