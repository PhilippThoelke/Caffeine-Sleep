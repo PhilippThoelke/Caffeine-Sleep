{
 "cells": [
  {
   "cell_type": "code",
   "execution_count": 1,
   "metadata": {},
   "outputs": [],
   "source": [
    "import sys\n",
    "sys.path.append('..')"
   ]
  },
  {
   "cell_type": "code",
   "execution_count": 2,
   "metadata": {},
   "outputs": [],
   "source": [
    "import os\n",
    "import pickle\n",
    "import numpy as np\n",
    "import pandas as pd\n",
    "from caffeine import EEGProcessing\n",
    "from matplotlib import pyplot as plt"
   ]
  },
  {
   "cell_type": "code",
   "execution_count": 3,
   "metadata": {},
   "outputs": [],
   "source": [
    "CAF_DOSE = 200\n",
    "\n",
    "FEATURE_PATH = 'C:\\\\Users\\\\Philipp\\\\Documents\\\\Caffeine\\\\Features{dose}\\\\Combined'.format(dose=CAF_DOSE)\n",
    "SUBJECTS_PATH = '..\\\\data\\\\CAF_{dose}_Inventaire.csv'.format(dose=CAF_DOSE)\n",
    "DATA_PATH = 'E:\\\\Cafeine_data\\\\CAF_{dose}\\\\EEG_data\\\\'.format(dose=CAF_DOSE)\n",
    "FIGURE_PATH = 'C:\\\\Users\\\\Philipp\\\\GoogleDrive\\\\Caffeine\\\\figures'\n",
    "\n",
    "STAGES = ['AWSL', 'N1', 'N2', 'N3', 'NREM', 'REM']\n",
    "DROP_STAGES = ['AWA']"
   ]
  },
  {
   "cell_type": "code",
   "execution_count": 4,
   "metadata": {},
   "outputs": [],
   "source": [
    "with open(os.path.join(FEATURE_PATH, 'data.pickle'), 'rb') as file:\n",
    "    data = pickle.load(file)\n",
    "with open(os.path.join(FEATURE_PATH, 'groups.pickle'), 'rb') as file:\n",
    "    groups = pickle.load(file)\n",
    "with open(os.path.join(FEATURE_PATH, 'labels.pickle'), 'rb') as file:\n",
    "    labels = pickle.load(file)"
   ]
  },
  {
   "cell_type": "code",
   "execution_count": 5,
   "metadata": {},
   "outputs": [
    {
     "name": "stdout",
     "output_type": "stream",
     "text": [
      "AWSL\n",
      "    subjects: 40\n",
      "    samples: 6992\n",
      "N1\n",
      "    subjects: 40\n",
      "    samples: 6341\n",
      "N2\n",
      "    subjects: 40\n",
      "    samples: 47218\n",
      "N3\n",
      "    subjects: 38\n",
      "    samples: 4035\n",
      "NREM\n",
      "    subjects: 40\n",
      "    samples: 57594\n",
      "REM\n",
      "    subjects: 40\n",
      "    samples: 19341\n"
     ]
    }
   ],
   "source": [
    "for stage in STAGES:\n",
    "    print(stage)\n",
    "    print('    subjects:', len(np.unique(groups[stage])))\n",
    "    print('    samples:', sum([len(groups[stage][groups[stage]==current]) for current in np.unique(groups[stage])]))"
   ]
  },
  {
   "cell_type": "code",
   "execution_count": 6,
   "metadata": {},
   "outputs": [
    {
     "data": {
      "image/png": "[encoded data removed]",
      "text/plain": [
       "<matplotlib.figure.Figure at 0x1c720a82cc0>"
      ]
     },
     "metadata": {
      "needs_background": "light"
     },
     "output_type": "display_data"
    }
   ],
   "source": [
    "unused_alpha = 0.4\n",
    "\n",
    "amounts_plac = dict([(stage, current['SampEn'][labels[stage]==0].shape[0]) for stage, current in data.items() if stage not in DROP_STAGES])\n",
    "amounts_caff = dict([(stage, current['SampEn'][labels[stage]==1].shape[0]) for stage, current in data.items() if stage not in DROP_STAGES])\n",
    "\n",
    "values_plac = np.array(list(amounts_plac.values()))\n",
    "values_caff = np.array(list(amounts_caff.values()))\n",
    "\n",
    "used_stages_mask = np.array([1, 0, 0, 0, 1, 1]).astype(np.bool)\n",
    "unused_stages_mask = np.invert(used_stages_mask)\n",
    "\n",
    "plt.figure(figsize=(18, 5))\n",
    "plt.title(f'Samples per sleep stage ({CAF_DOSE}mg dose)')\n",
    "\n",
    "color_plac = plt.bar(np.arange(len(amounts_plac))[used_stages_mask], values_plac[used_stages_mask], label='placebo')[0].get_facecolor()\n",
    "color_caff = plt.bar(np.arange(len(amounts_caff))[used_stages_mask], values_caff[used_stages_mask], bottom=values_plac[used_stages_mask], label='caffeine')[0].get_facecolor()\n",
    "\n",
    "color_plac = list(color_plac)[:-1] + [unused_alpha]\n",
    "color_caff = list(color_caff)[:-1] + [unused_alpha]\n",
    "\n",
    "plt.bar(np.arange(len(amounts_plac))[unused_stages_mask], values_plac[unused_stages_mask], color=color_plac)\n",
    "plt.bar(np.arange(len(amounts_caff))[unused_stages_mask], values_caff[unused_stages_mask], bottom=values_plac[unused_stages_mask], color=color_caff)\n",
    "\n",
    "plt.xticks(np.arange(len(amounts_plac)), [stage.replace('AWSL', 'AWA') for stage in amounts_plac.keys()])\n",
    "plt.legend()\n",
    "plt.grid()\n",
    "plt.savefig(os.path.join(FIGURE_PATH, 'data', f'sample_distribution{CAF_DOSE}'), dpi=400)\n",
    "plt.show()"
   ]
  },
  {
   "cell_type": "code",
   "execution_count": 7,
   "metadata": {},
   "outputs": [],
   "source": [
    "subjects = pd.read_csv(SUBJECTS_PATH, index_col=0)\n",
    "subject_ids = subjects['Subject_id']"
   ]
  },
  {
   "cell_type": "code",
   "execution_count": 8,
   "metadata": {},
   "outputs": [
    {
     "ename": "FileNotFoundError",
     "evalue": "[Errno 2] No such file or directory: 'E:\\\\Cafeine_data\\\\CAF_200\\\\EEG_data\\\\10005n1\\\\hyp_clean.npy'",
     "output_type": "error",
     "traceback": [
      "\u001b[1;31m---------------------------------------------------------------------------\u001b[0m",
      "\u001b[1;31mFileNotFoundError\u001b[0m                         Traceback (most recent call last)",
      "\u001b[1;32m<ipython-input-8-4e9eeb0650c2>\u001b[0m in \u001b[0;36m<module>\u001b[1;34m\u001b[0m\n\u001b[0;32m      2\u001b[0m \u001b[1;32mfor\u001b[0m \u001b[0msubject_id\u001b[0m \u001b[1;32min\u001b[0m \u001b[0msubject_ids\u001b[0m\u001b[1;33m:\u001b[0m\u001b[1;33m\u001b[0m\u001b[1;33m\u001b[0m\u001b[0m\n\u001b[0;32m      3\u001b[0m     \u001b[0mhyp_path\u001b[0m \u001b[1;33m=\u001b[0m \u001b[0mos\u001b[0m\u001b[1;33m.\u001b[0m\u001b[0mpath\u001b[0m\u001b[1;33m.\u001b[0m\u001b[0mjoin\u001b[0m\u001b[1;33m(\u001b[0m\u001b[0mDATA_PATH\u001b[0m\u001b[1;33m,\u001b[0m \u001b[0msubject_id\u001b[0m\u001b[1;33m,\u001b[0m \u001b[1;34m'hyp_clean.npy'\u001b[0m\u001b[1;33m)\u001b[0m\u001b[1;33m\u001b[0m\u001b[1;33m\u001b[0m\u001b[0m\n\u001b[1;32m----> 4\u001b[1;33m     \u001b[0mhypnograms\u001b[0m\u001b[1;33m[\u001b[0m\u001b[0msubject_id\u001b[0m\u001b[1;33m]\u001b[0m \u001b[1;33m=\u001b[0m \u001b[0mnp\u001b[0m\u001b[1;33m.\u001b[0m\u001b[0mload\u001b[0m\u001b[1;33m(\u001b[0m\u001b[0mhyp_path\u001b[0m\u001b[1;33m)\u001b[0m\u001b[1;33m\u001b[0m\u001b[1;33m\u001b[0m\u001b[0m\n\u001b[0m",
      "\u001b[1;32m~\\Anaconda3\\envs\\mne\\lib\\site-packages\\numpy\\lib\\npyio.py\u001b[0m in \u001b[0;36mload\u001b[1;34m(file, mmap_mode, allow_pickle, fix_imports, encoding)\u001b[0m\n\u001b[0;32m    420\u001b[0m         \u001b[0mown_fid\u001b[0m \u001b[1;33m=\u001b[0m \u001b[1;32mFalse\u001b[0m\u001b[1;33m\u001b[0m\u001b[1;33m\u001b[0m\u001b[0m\n\u001b[0;32m    421\u001b[0m     \u001b[1;32melse\u001b[0m\u001b[1;33m:\u001b[0m\u001b[1;33m\u001b[0m\u001b[1;33m\u001b[0m\u001b[0m\n\u001b[1;32m--> 422\u001b[1;33m         \u001b[0mfid\u001b[0m \u001b[1;33m=\u001b[0m \u001b[0mopen\u001b[0m\u001b[1;33m(\u001b[0m\u001b[0mos_fspath\u001b[0m\u001b[1;33m(\u001b[0m\u001b[0mfile\u001b[0m\u001b[1;33m)\u001b[0m\u001b[1;33m,\u001b[0m \u001b[1;34m\"rb\"\u001b[0m\u001b[1;33m)\u001b[0m\u001b[1;33m\u001b[0m\u001b[1;33m\u001b[0m\u001b[0m\n\u001b[0m\u001b[0;32m    423\u001b[0m         \u001b[0mown_fid\u001b[0m \u001b[1;33m=\u001b[0m \u001b[1;32mTrue\u001b[0m\u001b[1;33m\u001b[0m\u001b[1;33m\u001b[0m\u001b[0m\n\u001b[0;32m    424\u001b[0m \u001b[1;33m\u001b[0m\u001b[0m\n",
      "\u001b[1;31mFileNotFoundError\u001b[0m: [Errno 2] No such file or directory: 'E:\\\\Cafeine_data\\\\CAF_200\\\\EEG_data\\\\10005n1\\\\hyp_clean.npy'"
     ]
    }
   ],
   "source": [
    "hypnograms = {}\n",
    "for subject_id in subject_ids:\n",
    "    hyp_path = os.path.join(DATA_PATH, subject_id, 'hyp_clean.npy')\n",
    "    hypnograms[subject_id] = np.load(hyp_path)"
   ]
  },
  {
   "cell_type": "code",
   "execution_count": null,
   "metadata": {},
   "outputs": [],
   "source": [
    "fractions = {}\n",
    "for subject_id, hyp in hypnograms.items():\n",
    "    fractions[subject_id] = np.where(hyp != 0)[0][0] / np.sum(hyp == 0)\n",
    "\n",
    "plt.figure(figsize=(18, 4))\n",
    "plt.title('Fraction of awake data before sleep over all awake data')\n",
    "plt.bar(np.arange(len(fractions)), fractions.values())\n",
    "plt.xticks(np.arange(len(fractions)), fractions.keys(), rotation=90)\n",
    "plt.show()"
   ]
  },
  {
   "cell_type": "code",
   "execution_count": null,
   "metadata": {
    "scrolled": false
   },
   "outputs": [],
   "source": [
    "individuals = np.unique(subjects['Subject_id'].apply(lambda x: x.lower().split('n')[0]), return_index=True)[1]"
   ]
  },
  {
   "cell_type": "code",
   "execution_count": null,
   "metadata": {
    "scrolled": false
   },
   "outputs": [],
   "source": [
    "individual_subjects = subjects.iloc[individuals]\n",
    "\n",
    "plt.figure(figsize=(18, 5))\n",
    "plt.title('Subject age')\n",
    "plt.bar(np.arange(len(individual_subjects)), sorted(individual_subjects['Age']))\n",
    "plt.show()\n",
    "\n",
    "print('min:', np.min(individual_subjects['Age']))\n",
    "print('max:', np.max(individual_subjects['Age']))\n",
    "print('mean:', np.mean(individual_subjects['Age']))\n",
    "print('std:', np.std(individual_subjects['Age']))\n",
    "print('median:', np.median(individual_subjects['Age']))"
   ]
  },
  {
   "cell_type": "code",
   "execution_count": null,
   "metadata": {},
   "outputs": [],
   "source": [
    "print('Male subjects:', len(individual_subjects[individual_subjects['Gender'] == 'M']))\n",
    "print('Female subjects:', len(individual_subjects[individual_subjects['Gender'] == 'F']))"
   ]
  },
  {
   "cell_type": "code",
   "execution_count": null,
   "metadata": {},
   "outputs": [],
   "source": []
  }
 ],
 "metadata": {
  "kernelspec": {
   "display_name": "Python 3",
   "language": "python",
   "name": "python3"
  },
  "language_info": {
   "codemirror_mode": {
    "name": "ipython",
    "version": 3
   },
   "file_extension": ".py",
   "mimetype": "text/x-python",
   "name": "python",
   "nbconvert_exporter": "python",
   "pygments_lexer": "ipython3",
   "version": "3.6.8"
  }
 },
 "nbformat": 4,
 "nbformat_minor": 2
}
