{
 "cells": [
  {
   "cell_type": "code",
   "execution_count": 6,
   "metadata": {},
   "outputs": [],
   "source": [
    "import os\n",
    "import glob\n",
    "import pickle\n",
    "import numpy as np\n",
    "from scipy import io\n",
    "from mne import viz, stats\n",
    "from matplotlib import colors, gridspec, pyplot as plt"
   ]
  },
  {
   "cell_type": "code",
   "execution_count": 2,
   "metadata": {},
   "outputs": [],
   "source": [
    "CAF_DOSE = 200\n",
    "SIGNIFICANT_P = 0.05\n",
    "\n",
    "PROJECT_PATH = '..\\\\data' # path to where the EEG sensor position file is stored\n",
    "RESULTS_PATH = '..\\\\results'\n",
    "FIGURE_PATH = '..\\\\figures'\n",
    "\n",
    "STAGES = ['AWSL', 'NREM', 'REM']\n",
    "BANDS = ['delta', 'theta', 'alpha', 'sigma', 'beta', 'low gamma']\n",
    "CHANNELS = ['Fp1', 'Fp2', 'F3', 'F4', 'F7', 'F8', 'C3', 'C4', 'P3 ', 'P4',\n",
    "            'O1', 'O2 ', 'T3', 'T4', 'T5', 'T6', 'Fz', 'Cz', 'Pz', 'Oz']"
   ]
  },
  {
   "cell_type": "code",
   "execution_count": 4,
   "metadata": {},
   "outputs": [],
   "source": [
    "# load EEG sensor positions to be used in the topomaps\n",
    "sensor_pos = io.loadmat(os.path.join(PROJECT_PATH, 'Coo_caf'))['Cor'].T\n",
    "sensor_pos = np.array([sensor_pos[1], sensor_pos[0]]).T"
   ]
  },
  {
   "cell_type": "code",
   "execution_count": 14,
   "metadata": {},
   "outputs": [],
   "source": [
    "glob.glob(os.path.join(RESULTS_PATH, f'scores_single{CAF_DOSE}', f'scores*.pickle'))\n",
    "\n",
    "scores = {}\n",
    "for path in glob.glob(os.path.join(RESULTS_PATH, f'scores_single{CAF_DOSE}', f'scores*.pickle')):\n",
    "    clf = path.split(os.sep)[-1].split('.')[0].split('_')[-1]\n",
    "    with open(path, 'rb') as file:\n",
    "        scores[clf] = pickle.load(file)"
   ]
  },
  {
   "cell_type": "code",
   "execution_count": null,
   "metadata": {},
   "outputs": [],
   "source": []
  }
 ],
 "metadata": {
  "kernelspec": {
   "display_name": "Python 3",
   "language": "python",
   "name": "python3"
  },
  "language_info": {
   "codemirror_mode": {
    "name": "ipython",
    "version": 3
   },
   "file_extension": ".py",
   "mimetype": "text/x-python",
   "name": "python",
   "nbconvert_exporter": "python",
   "pygments_lexer": "ipython3",
   "version": "3.6.8"
  }
 },
 "nbformat": 4,
 "nbformat_minor": 2
}
